{
 "cells": [
  {
   "cell_type": "code",
   "execution_count": 1,
   "metadata": {
    "execution": {
     "iopub.execute_input": "2020-06-17T15:20:05.699982Z",
     "iopub.status.busy": "2020-06-17T15:20:05.699716Z",
     "iopub.status.idle": "2020-06-17T15:20:05.840514Z",
     "shell.execute_reply": "2020-06-17T15:20:05.840796Z"
    },
    "papermill": {
     "duration": 0.152472,
     "end_time": "2020-06-17T15:20:05.840890",
     "exception": false,
     "start_time": "2020-06-17T15:20:05.688418",
     "status": "completed"
    },
    "tags": []
   },
   "outputs": [],
   "source": [
    "import os\n",
    "from os.path import join,exists\n",
    "import pandas as pd\n",
    "import numpy as np"
   ]
  },
  {
   "cell_type": "code",
   "execution_count": 2,
   "metadata": {
    "execution": {
     "iopub.execute_input": "2020-06-17T15:20:05.852418Z",
     "iopub.status.busy": "2020-06-17T15:20:05.852157Z",
     "iopub.status.idle": "2020-06-17T15:20:05.853531Z",
     "shell.execute_reply": "2020-06-17T15:20:05.853783Z"
    },
    "papermill": {
     "duration": 0.007844,
     "end_time": "2020-06-17T15:20:05.853838",
     "exception": false,
     "start_time": "2020-06-17T15:20:05.845994",
     "status": "completed"
    },
    "tags": [
     "parameters"
    ]
   },
   "outputs": [],
   "source": [
    "table_path = 'experiments/experiments_table.csv'\n",
    "model_name = 'datagen-test'"
   ]
  },
  {
   "cell_type": "code",
   "execution_count": 4,
   "metadata": {
    "execution": {
     "iopub.execute_input": "2020-06-17T15:20:05.875932Z",
     "iopub.status.busy": "2020-06-17T15:20:05.875677Z",
     "iopub.status.idle": "2020-06-17T15:20:05.876944Z",
     "shell.execute_reply": "2020-06-17T15:20:05.877191Z"
    },
    "papermill": {
     "duration": 0.007917,
     "end_time": "2020-06-17T15:20:05.877241",
     "exception": false,
     "start_time": "2020-06-17T15:20:05.869324",
     "status": "completed"
    },
    "tags": []
   },
   "outputs": [],
   "source": [
    "report_path = join('output',model_name,'report.txt')\n",
    "df_columns = ['model name','train accuracy','validation accuracy','test accuracy','train loss','validation loss','test loss']"
   ]
  },
  {
   "cell_type": "code",
   "execution_count": null,
   "metadata": {},
   "outputs": [],
   "source": [
    "if not exists('experiments'):\n",
    "    os.mkdir('experiments')\n",
    "    \n",
    "df = pd.DataFrame(columns = df_columns) if not exists(table_path) else pd.read_csv(table_path)"
   ]
  },
  {
   "cell_type": "code",
   "execution_count": 5,
   "metadata": {
    "execution": {
     "iopub.execute_input": "2020-06-17T15:20:05.887721Z",
     "iopub.status.busy": "2020-06-17T15:20:05.887454Z",
     "iopub.status.idle": "2020-06-17T15:20:05.889156Z",
     "shell.execute_reply": "2020-06-17T15:20:05.888895Z"
    },
    "papermill": {
     "duration": 0.007866,
     "end_time": "2020-06-17T15:20:05.889195",
     "exception": false,
     "start_time": "2020-06-17T15:20:05.881329",
     "status": "completed"
    },
    "tags": []
   },
   "outputs": [],
   "source": [
    "#сначала надо чекнуть что все ок\n",
    "exp_path = join('experiments',model_name)\n",
    "if exists(exp_path):\n",
    "    raise Exception('Такое название эксперимента уже существует, если этой другой эксперимент, поменяйте название старого и запустите снова')"
   ]
  },
  {
   "cell_type": "code",
   "execution_count": 6,
   "metadata": {
    "execution": {
     "iopub.execute_input": "2020-06-17T15:20:05.899784Z",
     "iopub.status.busy": "2020-06-17T15:20:05.899530Z",
     "iopub.status.idle": "2020-06-17T15:20:05.918114Z",
     "shell.execute_reply": "2020-06-17T15:20:05.918374Z"
    },
    "papermill": {
     "duration": 0.025087,
     "end_time": "2020-06-17T15:20:05.918443",
     "exception": false,
     "start_time": "2020-06-17T15:20:05.893356",
     "status": "completed"
    },
    "tags": []
   },
   "outputs": [
    {
     "data": {
      "text/plain": [
       "'experiments/datagen-test'"
      ]
     },
     "execution_count": 6,
     "metadata": {},
     "output_type": "execute_result"
    }
   ],
   "source": [
    "import shutil\n",
    "shutil.copytree(join('output',model_name),join('experiments',model_name))"
   ]
  },
  {
   "cell_type": "code",
   "execution_count": 8,
   "metadata": {
    "execution": {
     "iopub.execute_input": "2020-06-17T15:20:05.945960Z",
     "iopub.status.busy": "2020-06-17T15:20:05.945661Z",
     "iopub.status.idle": "2020-06-17T15:20:05.947261Z",
     "shell.execute_reply": "2020-06-17T15:20:05.946998Z"
    },
    "papermill": {
     "duration": 0.009963,
     "end_time": "2020-06-17T15:20:05.947301",
     "exception": false,
     "start_time": "2020-06-17T15:20:05.937338",
     "status": "completed"
    },
    "tags": []
   },
   "outputs": [],
   "source": [
    "def get_report_info(report_path):\n",
    "    cols = []\n",
    "    with open(report_path,'r') as f:\n",
    "        for line in f.readlines():\n",
    "            info = line.split(' ')[2:]\n",
    "            res =\"\" \n",
    "            for item in info:\n",
    "                res+=item\n",
    "            cols.append(res)\n",
    "    return cols"
   ]
  },
  {
   "cell_type": "code",
   "execution_count": 9,
   "metadata": {
    "execution": {
     "iopub.execute_input": "2020-06-17T15:20:05.959175Z",
     "iopub.status.busy": "2020-06-17T15:20:05.958916Z",
     "iopub.status.idle": "2020-06-17T15:20:05.960426Z",
     "shell.execute_reply": "2020-06-17T15:20:05.960677Z"
    },
    "papermill": {
     "duration": 0.00815,
     "end_time": "2020-06-17T15:20:05.960729",
     "exception": false,
     "start_time": "2020-06-17T15:20:05.952579",
     "status": "completed"
    },
    "tags": []
   },
   "outputs": [],
   "source": [
    "report_info = get_report_info(report_path)"
   ]
  },
  {
   "cell_type": "code",
   "execution_count": 10,
   "metadata": {
    "execution": {
     "iopub.execute_input": "2020-06-17T15:20:05.972879Z",
     "iopub.status.busy": "2020-06-17T15:20:05.972630Z",
     "iopub.status.idle": "2020-06-17T15:20:05.973952Z",
     "shell.execute_reply": "2020-06-17T15:20:05.974194Z"
    },
    "papermill": {
     "duration": 0.008886,
     "end_time": "2020-06-17T15:20:05.974243",
     "exception": false,
     "start_time": "2020-06-17T15:20:05.965357",
     "status": "completed"
    },
    "tags": []
   },
   "outputs": [],
   "source": [
    "import re\n",
    "\n",
    "for i in range(len(report_info)):\n",
    "    report_info[i] = re.sub('\\n','',report_info[i])"
   ]
  },
  {
   "cell_type": "code",
   "execution_count": 11,
   "metadata": {
    "execution": {
     "iopub.execute_input": "2020-06-17T15:20:05.990534Z",
     "iopub.status.busy": "2020-06-17T15:20:05.990282Z",
     "iopub.status.idle": "2020-06-17T15:20:05.991113Z",
     "shell.execute_reply": "2020-06-17T15:20:05.991366Z"
    },
    "papermill": {
     "duration": 0.012539,
     "end_time": "2020-06-17T15:20:05.991418",
     "exception": false,
     "start_time": "2020-06-17T15:20:05.978879",
     "status": "completed"
    },
    "tags": []
   },
   "outputs": [],
   "source": [
    "df.loc[len(df)] = report_info"
   ]
  },
  {
   "cell_type": "code",
   "execution_count": 12,
   "metadata": {
    "execution": {
     "iopub.execute_input": "2020-06-17T15:20:06.003129Z",
     "iopub.status.busy": "2020-06-17T15:20:06.002881Z",
     "iopub.status.idle": "2020-06-17T15:20:06.005911Z",
     "shell.execute_reply": "2020-06-17T15:20:06.005654Z"
    },
    "papermill": {
     "duration": 0.009822,
     "end_time": "2020-06-17T15:20:06.005951",
     "exception": false,
     "start_time": "2020-06-17T15:20:05.996129",
     "status": "completed"
    },
    "tags": []
   },
   "outputs": [],
   "source": [
    "df.to_csv(table_path,index=False)"
   ]
  }
 ],
 "metadata": {
  "celltoolbar": "Tags",
  "kernelspec": {
   "display_name": "Python 3",
   "language": "python",
   "name": "python3"
  },
  "language_info": {
   "codemirror_mode": {
    "name": "ipython",
    "version": 3
   },
   "file_extension": ".py",
   "mimetype": "text/x-python",
   "name": "python",
   "nbconvert_exporter": "python",
   "pygments_lexer": "ipython3",
   "version": "3.7.6"
  },
  "papermill": {
   "duration": 0.946836,
   "end_time": "2020-06-17T15:20:06.115905",
   "environment_variables": {},
   "exception": null,
   "input_path": "confirm_experiment.ipynb",
   "output_path": "output_notebooks/confirm_experiment.ipynb",
   "parameters": {
    "model_name": "datagen-test",
    "table_path": "experiments/experiments_table.csv"
   },
   "start_time": "2020-06-17T15:20:05.169069",
   "version": "2.1.0"
  }
 },
 "nbformat": 4,
 "nbformat_minor": 4
}
