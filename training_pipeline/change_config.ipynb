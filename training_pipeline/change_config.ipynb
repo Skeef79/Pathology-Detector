{
 "cells": [
  {
   "cell_type": "code",
   "execution_count": 6,
   "metadata": {},
   "outputs": [],
   "source": [
    "from os.path import join\n",
    "root = '/usr/data/shared_directory/team_1/data'"
   ]
  },
  {
   "cell_type": "code",
   "execution_count": 7,
   "metadata": {},
   "outputs": [],
   "source": [
    "# Здесь находятся все переменные, которые есть в конфиге\n",
    "# Каждую переменную можно менять. Чтобы изменения пришли в силу, нужно запустить блокнот. Он автоматически обновит config.JSON\n",
    "# конфиг - это словарь, в котором по ключу можно получить значение определенного параметра.\n",
    "#Для каждого ключа написано пояснение, зачем он нужен и что он обозначает\n",
    "\n",
    "config = {\n",
    "    \n",
    "    #Высота картинки\n",
    "    'img_height' : 128,\n",
    "    \n",
    "    #Ширина картинки\n",
    "    'img_width': 192,\n",
    "    \n",
    "    #количество эпох для тренировки\n",
    "    'epochs' : 2,\n",
    "    \n",
    "    #размер батча\n",
    "    'batch_size' : 64,\n",
    "    \n",
    "    #True, если фон необходимо удалять, иначе False\n",
    "    'remove_background' : False,\n",
    "\n",
    "    #True, если модель нужно тренировать, иначе False\n",
    "    'need_training' : True,\n",
    "    \n",
    "    #True, если датасеты необходимо подготовить к использованию нейросетью (обычно используется, если добавился новый датасет),\n",
    "    #False иначе\n",
    "    'prepare_datasets' : True,\n",
    "    \n",
    "    #путь к датасетам и ноутбукам, которые их преобразуют, которые используются для обучения (добавлять через запятую)\n",
    "    'datasets_paths' : [\n",
    "        \n",
    "        #(join(root,'plant_pathology_2020'), 'data_transforms/plant_pathology_2020_transform.ipynb'),\n",
    "        \n",
    "        #(join(root,'rice_leaf_diseases'),'data_transforms/rice_leaf_diseases_transform.ipynb'),\n",
    "        \n",
    "        #(join(root,'plantvillage_full'),'data_transforms/plant_village_transform.ipynb'), \n",
    "        \n",
    "        (join(root,'Tomato_leaf_disease'),'data_transforms/tomato_leaf_diseases_transform.ipynb')\n",
    "\n",
    "    ],\n",
    "\n",
    "    #True, если необходимо делать аугментацию\n",
    "    'do_augmentation' : True,\n",
    "    \n",
    "    #Название модели \n",
    "    #данный параметр будет использоваться для создания названия папки, в которой будут сохраняться результаты эксперимента,\n",
    "    #поэтому, неплохо было бы сюда писать еще краткие пояснения (effNetB0_plant_pathology_with_augmentation)\n",
    "    'model_name' : 'tomato_test',\n",
    "    \n",
    "    #путь до архитектуры модели и путь до весов. Если хотя бы одна из этих переменных None. То будет создана новая модель\n",
    "    'model_json_path' : None,\n",
    "    'model_weights_path' : None,\n",
    "}"
   ]
  },
  {
   "cell_type": "code",
   "execution_count": 8,
   "metadata": {},
   "outputs": [],
   "source": [
    "import json\n",
    "\n",
    "#здесь происходит как раз изменение конфига\n",
    "\n",
    "with open('config.json','w') as file:\n",
    "    json.dump(config,file)"
   ]
  },
  {
   "cell_type": "code",
   "execution_count": 9,
   "metadata": {},
   "outputs": [],
   "source": [
    "#функция для загрузки конфига (можете скопировать себе)\n",
    "def load_config(config_path = 'config.json'):\n",
    "    file = open(config_path,'r')\n",
    "    return json.load(file)\n"
   ]
  },
  {
   "cell_type": "code",
   "execution_count": 10,
   "metadata": {},
   "outputs": [
    {
     "name": "stdout",
     "output_type": "stream",
     "text": [
      "[['/usr/data/shared_directory/team_1/data/Tomato_leaf_disease', 'data_transforms/tomato_leaf_diseases_transform.ipynb']]\n"
     ]
    }
   ],
   "source": [
    "#пример использования функции load_config:\n",
    "\n",
    "config = load_config() #также моежте указать путь до конфига своего параметром\n",
    "\n",
    "datasets_paths = config['datasets_paths']\n",
    "print(datasets_paths)"
   ]
  }
 ],
 "metadata": {
  "kernelspec": {
   "display_name": "Python 3",
   "language": "python",
   "name": "python3"
  },
  "language_info": {
   "codemirror_mode": {
    "name": "ipython",
    "version": 3
   },
   "file_extension": ".py",
   "mimetype": "text/x-python",
   "name": "python",
   "nbconvert_exporter": "python",
   "pygments_lexer": "ipython3",
   "version": "3.7.6"
  }
 },
 "nbformat": 4,
 "nbformat_minor": 4
}
